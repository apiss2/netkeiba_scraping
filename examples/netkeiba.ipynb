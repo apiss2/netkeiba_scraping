{
 "cells": [
  {
   "cell_type": "markdown",
   "metadata": {},
   "source": [
    "# サンプル\n",
    "まずはライブラリから必要なものをインポートします"
   ]
  },
  {
   "cell_type": "code",
   "execution_count": 2,
   "metadata": {},
   "outputs": [],
   "source": [
    "import datetime\n",
    "\n",
    "from scraping.netkeiba import RaceidScraper, OddsScraper, DatabaseScraper"
   ]
  },
  {
   "cell_type": "markdown",
   "metadata": {},
   "source": [
    "# BeautifulSoupを利用したクラスの利用方法\n",
    "このライブラリには以下の2種類のクラスが存在します。\n",
    "1. requests + BeautifulSoup4を利用した、静的サイトのスクレイピングを行うクラス\n",
    "1. seleniumを利用した、動的サイトのスクレイピングを行うクラス\n",
    "\n",
    "netkeibaのスクレイピングにおいては、`RaceidScraper`クラスおよび`DatabaseScraper`クラスが静的サイト用、`OddsScraper`クラスが動的サイト用です。"
   ]
  },
  {
   "cell_type": "markdown",
   "metadata": {},
   "source": [
    "## 静的サイトのスクレイピング\n",
    "静的サイトの場合には、クラスの初期化にあたっては何もする必要はありません。"
   ]
  },
  {
   "cell_type": "code",
   "execution_count": 3,
   "metadata": {},
   "outputs": [
    {
     "data": {
      "text/plain": [
       "['202107060312', '202109060312', '202107060308']"
      ]
     },
     "execution_count": 3,
     "metadata": {},
     "output_type": "execute_result"
    }
   ],
   "source": [
    "raceid_scraper = RaceidScraper()\n",
    "race_id_list = raceid_scraper.get_raceID_list_from_date(datetime.date(2021, 12, 11))\n",
    "race_id_list[:3]"
   ]
  },
  {
   "cell_type": "markdown",
   "metadata": {},
   "source": [
    "ただし、DatabaseScraperのように、レースIDを用いてアクセスするURLを変える場合には、まず初めてに`get_soup`メソッドで情報を取得する必要があります。"
   ]
  },
  {
   "cell_type": "code",
   "execution_count": 4,
   "metadata": {},
   "outputs": [],
   "source": [
    "database_scraper = DatabaseScraper()\n",
    "database_scraper.get_soup(race_id_list[0])"
   ]
  },
  {
   "cell_type": "code",
   "execution_count": 5,
   "metadata": {},
   "outputs": [
    {
     "data": {
      "text/html": [
       "<div>\n",
       "<style scoped>\n",
       "    .dataframe tbody tr th:only-of-type {\n",
       "        vertical-align: middle;\n",
       "    }\n",
       "\n",
       "    .dataframe tbody tr th {\n",
       "        vertical-align: top;\n",
       "    }\n",
       "\n",
       "    .dataframe thead th {\n",
       "        text-align: right;\n",
       "    }\n",
       "</style>\n",
       "<table border=\"1\" class=\"dataframe\">\n",
       "  <thead>\n",
       "    <tr style=\"text-align: right;\">\n",
       "      <th></th>\n",
       "      <th>着順</th>\n",
       "      <th>枠番</th>\n",
       "      <th>馬番</th>\n",
       "      <th>馬名</th>\n",
       "      <th>性齢</th>\n",
       "      <th>斤量</th>\n",
       "      <th>騎手</th>\n",
       "      <th>タイム</th>\n",
       "      <th>着差</th>\n",
       "      <th>単勝</th>\n",
       "      <th>人気</th>\n",
       "      <th>馬体重</th>\n",
       "      <th>調教師</th>\n",
       "    </tr>\n",
       "  </thead>\n",
       "  <tbody>\n",
       "    <tr>\n",
       "      <th>0</th>\n",
       "      <td>1</td>\n",
       "      <td>6</td>\n",
       "      <td>10</td>\n",
       "      <td>カーテンコール</td>\n",
       "      <td>牝4</td>\n",
       "      <td>55</td>\n",
       "      <td>川須栄彦</td>\n",
       "      <td>1:11.3</td>\n",
       "      <td></td>\n",
       "      <td>4.1</td>\n",
       "      <td>1</td>\n",
       "      <td>502(+8)</td>\n",
       "      <td>[西]高野友和</td>\n",
       "    </tr>\n",
       "    <tr>\n",
       "      <th>1</th>\n",
       "      <td>2</td>\n",
       "      <td>2</td>\n",
       "      <td>3</td>\n",
       "      <td>ミエノワールド</td>\n",
       "      <td>牡4</td>\n",
       "      <td>57</td>\n",
       "      <td>ルメール</td>\n",
       "      <td>1:11.8</td>\n",
       "      <td>3</td>\n",
       "      <td>4.2</td>\n",
       "      <td>2</td>\n",
       "      <td>504(-4)</td>\n",
       "      <td>[西]西園正都</td>\n",
       "    </tr>\n",
       "    <tr>\n",
       "      <th>2</th>\n",
       "      <td>3</td>\n",
       "      <td>3</td>\n",
       "      <td>5</td>\n",
       "      <td>ビートマジック</td>\n",
       "      <td>セ5</td>\n",
       "      <td>57</td>\n",
       "      <td>藤岡康太</td>\n",
       "      <td>1:12.2</td>\n",
       "      <td>2</td>\n",
       "      <td>47.6</td>\n",
       "      <td>11</td>\n",
       "      <td>478(0)</td>\n",
       "      <td>[西]小林真也</td>\n",
       "    </tr>\n",
       "  </tbody>\n",
       "</table>\n",
       "</div>"
      ],
      "text/plain": [
       "  着順 枠番  馬番       馬名  性齢  斤量    騎手     タイム 着差    単勝  人気      馬体重      調教師\n",
       "0  1  6  10  カーテンコール  牝4  55  川須栄彦  1:11.3      4.1   1  502(+8)  [西]高野友和\n",
       "1  2  2   3  ミエノワールド  牡4  57  ルメール  1:11.8  3   4.2   2  504(-4)  [西]西園正都\n",
       "2  3  3   5  ビートマジック  セ5  57  藤岡康太  1:12.2  2  47.6  11   478(0)  [西]小林真也"
      ]
     },
     "execution_count": 5,
     "metadata": {},
     "output_type": "execute_result"
    }
   ],
   "source": [
    "df = database_scraper.get_main_df()\n",
    "df.head(3)"
   ]
  },
  {
   "cell_type": "code",
   "execution_count": 6,
   "metadata": {},
   "outputs": [
    {
     "data": {
      "text/html": [
       "<div>\n",
       "<style scoped>\n",
       "    .dataframe tbody tr th:only-of-type {\n",
       "        vertical-align: middle;\n",
       "    }\n",
       "\n",
       "    .dataframe tbody tr th {\n",
       "        vertical-align: top;\n",
       "    }\n",
       "\n",
       "    .dataframe thead th {\n",
       "        text-align: right;\n",
       "    }\n",
       "</style>\n",
       "<table border=\"1\" class=\"dataframe\">\n",
       "  <thead>\n",
       "    <tr style=\"text-align: right;\">\n",
       "      <th></th>\n",
       "      <th>着順</th>\n",
       "      <th>枠番</th>\n",
       "      <th>馬番</th>\n",
       "      <th>馬名</th>\n",
       "      <th>性齢</th>\n",
       "      <th>斤量</th>\n",
       "      <th>騎手</th>\n",
       "      <th>タイム</th>\n",
       "      <th>着差</th>\n",
       "      <th>単勝</th>\n",
       "      <th>人気</th>\n",
       "      <th>馬体重</th>\n",
       "      <th>調教師</th>\n",
       "      <th>horse_id</th>\n",
       "      <th>jockey_id</th>\n",
       "    </tr>\n",
       "  </thead>\n",
       "  <tbody>\n",
       "    <tr>\n",
       "      <th>0</th>\n",
       "      <td>1</td>\n",
       "      <td>6</td>\n",
       "      <td>10</td>\n",
       "      <td>カーテンコール</td>\n",
       "      <td>牝4</td>\n",
       "      <td>55</td>\n",
       "      <td>川須栄彦</td>\n",
       "      <td>1:11.3</td>\n",
       "      <td></td>\n",
       "      <td>4.1</td>\n",
       "      <td>1</td>\n",
       "      <td>502(+8)</td>\n",
       "      <td>[西]高野友和</td>\n",
       "      <td>2017102371</td>\n",
       "      <td>2017102371</td>\n",
       "    </tr>\n",
       "    <tr>\n",
       "      <th>1</th>\n",
       "      <td>2</td>\n",
       "      <td>2</td>\n",
       "      <td>3</td>\n",
       "      <td>ミエノワールド</td>\n",
       "      <td>牡4</td>\n",
       "      <td>57</td>\n",
       "      <td>ルメール</td>\n",
       "      <td>1:11.8</td>\n",
       "      <td>3</td>\n",
       "      <td>4.2</td>\n",
       "      <td>2</td>\n",
       "      <td>504(-4)</td>\n",
       "      <td>[西]西園正都</td>\n",
       "      <td>2017105306</td>\n",
       "      <td>2017105306</td>\n",
       "    </tr>\n",
       "    <tr>\n",
       "      <th>2</th>\n",
       "      <td>3</td>\n",
       "      <td>3</td>\n",
       "      <td>5</td>\n",
       "      <td>ビートマジック</td>\n",
       "      <td>セ5</td>\n",
       "      <td>57</td>\n",
       "      <td>藤岡康太</td>\n",
       "      <td>1:12.2</td>\n",
       "      <td>2</td>\n",
       "      <td>47.6</td>\n",
       "      <td>11</td>\n",
       "      <td>478(0)</td>\n",
       "      <td>[西]小林真也</td>\n",
       "      <td>2016105963</td>\n",
       "      <td>2016105963</td>\n",
       "    </tr>\n",
       "  </tbody>\n",
       "</table>\n",
       "</div>"
      ],
      "text/plain": [
       "  着順 枠番  馬番       馬名  性齢  斤量    騎手     タイム 着差    単勝  人気      馬体重      調教師  \\\n",
       "0  1  6  10  カーテンコール  牝4  55  川須栄彦  1:11.3      4.1   1  502(+8)  [西]高野友和   \n",
       "1  2  2   3  ミエノワールド  牡4  57  ルメール  1:11.8  3   4.2   2  504(-4)  [西]西園正都   \n",
       "2  3  3   5  ビートマジック  セ5  57  藤岡康太  1:12.2  2  47.6  11   478(0)  [西]小林真也   \n",
       "\n",
       "     horse_id   jockey_id  \n",
       "0  2017102371  2017102371  \n",
       "1  2017105306  2017105306  \n",
       "2  2016105963  2016105963  "
      ]
     },
     "execution_count": 6,
     "metadata": {},
     "output_type": "execute_result"
    }
   ],
   "source": [
    "df['horse_id'] = database_scraper.get_horse_id_list()\n",
    "df['jockey_id'] = database_scraper.get_jockey_id_list()\n",
    "df.head(3)"
   ]
  },
  {
   "cell_type": "code",
   "execution_count": 7,
   "metadata": {},
   "outputs": [
    {
     "data": {
      "text/html": [
       "<div>\n",
       "<style scoped>\n",
       "    .dataframe tbody tr th:only-of-type {\n",
       "        vertical-align: middle;\n",
       "    }\n",
       "\n",
       "    .dataframe tbody tr th {\n",
       "        vertical-align: top;\n",
       "    }\n",
       "\n",
       "    .dataframe thead th {\n",
       "        text-align: right;\n",
       "    }\n",
       "</style>\n",
       "<table border=\"1\" class=\"dataframe\">\n",
       "  <thead>\n",
       "    <tr style=\"text-align: right;\">\n",
       "      <th></th>\n",
       "      <th>0</th>\n",
       "      <th>1</th>\n",
       "      <th>2</th>\n",
       "      <th>3</th>\n",
       "    </tr>\n",
       "  </thead>\n",
       "  <tbody>\n",
       "    <tr>\n",
       "      <th>0</th>\n",
       "      <td>単勝</td>\n",
       "      <td>10</td>\n",
       "      <td>410</td>\n",
       "      <td>1</td>\n",
       "    </tr>\n",
       "    <tr>\n",
       "      <th>1</th>\n",
       "      <td>複勝</td>\n",
       "      <td>10br3br5</td>\n",
       "      <td>180br190br910</td>\n",
       "      <td>1br3br11</td>\n",
       "    </tr>\n",
       "    <tr>\n",
       "      <th>2</th>\n",
       "      <td>枠連</td>\n",
       "      <td>2 - 6</td>\n",
       "      <td>730</td>\n",
       "      <td>3</td>\n",
       "    </tr>\n",
       "  </tbody>\n",
       "</table>\n",
       "</div>"
      ],
      "text/plain": [
       "    0         1              2         3\n",
       "0  単勝        10            410         1\n",
       "1  複勝  10br3br5  180br190br910  1br3br11\n",
       "2  枠連     2 - 6            730         3"
      ]
     },
     "execution_count": 7,
     "metadata": {},
     "output_type": "execute_result"
    }
   ],
   "source": [
    "database_scraper.get_pay_df().head(3)"
   ]
  },
  {
   "cell_type": "code",
   "execution_count": 8,
   "metadata": {},
   "outputs": [
    {
     "data": {
      "text/plain": [
       "{'レース名': '豊川特別 ',\n",
       " '周回方向': '不明',\n",
       " 'コースタイプ': 'ダート',\n",
       " '馬場状態': '良',\n",
       " 'コース長': '1200',\n",
       " '天候': '曇',\n",
       " '日時': '2021年12月11日',\n",
       " '発走': '16:10',\n",
       " '開催回': '6回',\n",
       " '開催日': '3日目',\n",
       " '開催会場': '中京',\n",
       " 'レース条件_1': '3歳以上2勝クラス',\n",
       " 'レース条件_2': '(混)(定量)'}"
      ]
     },
     "execution_count": 8,
     "metadata": {},
     "output_type": "execute_result"
    }
   ],
   "source": [
    "database_scraper.get_race_info()"
   ]
  },
  {
   "cell_type": "markdown",
   "metadata": {},
   "source": [
    "## 動的サイトのスクレイピング\n",
    "動的サイトの場合にはchrome driverが必要なので、driverの場所を引数から渡す必要があります。\n",
    "\n",
    "また、静的サイトと同様に、レースIDを用いてアクセスするURLを変える場合には、`visit_page`メソッドを事前に呼び出す必要があります。"
   ]
  },
  {
   "cell_type": "code",
   "execution_count": 9,
   "metadata": {},
   "outputs": [],
   "source": [
    "odds_scraper = OddsScraper(executable_path='../chromedriver_win32/chromedriver.exe')\n",
    "odds_scraper.visit_page(race_id_list[0])"
   ]
  },
  {
   "cell_type": "code",
   "execution_count": 10,
   "metadata": {},
   "outputs": [
    {
     "data": {
      "text/html": [
       "<div>\n",
       "<style scoped>\n",
       "    .dataframe tbody tr th:only-of-type {\n",
       "        vertical-align: middle;\n",
       "    }\n",
       "\n",
       "    .dataframe tbody tr th {\n",
       "        vertical-align: top;\n",
       "    }\n",
       "\n",
       "    .dataframe thead th {\n",
       "        text-align: right;\n",
       "    }\n",
       "</style>\n",
       "<table border=\"1\" class=\"dataframe\">\n",
       "  <thead>\n",
       "    <tr style=\"text-align: right;\">\n",
       "      <th></th>\n",
       "      <th>First</th>\n",
       "      <th>Odds</th>\n",
       "    </tr>\n",
       "  </thead>\n",
       "  <tbody>\n",
       "    <tr>\n",
       "      <th>0</th>\n",
       "      <td>1</td>\n",
       "      <td>106.1</td>\n",
       "    </tr>\n",
       "    <tr>\n",
       "      <th>1</th>\n",
       "      <td>2</td>\n",
       "      <td>10.7</td>\n",
       "    </tr>\n",
       "    <tr>\n",
       "      <th>2</th>\n",
       "      <td>3</td>\n",
       "      <td>4.2</td>\n",
       "    </tr>\n",
       "  </tbody>\n",
       "</table>\n",
       "</div>"
      ],
      "text/plain": [
       "   First   Odds\n",
       "0      1  106.1\n",
       "1      2   10.7\n",
       "2      3    4.2"
      ]
     },
     "execution_count": 10,
     "metadata": {},
     "output_type": "execute_result"
    }
   ],
   "source": [
    "tansho_df = odds_scraper.get_tansho_odds_table()\n",
    "tansho_df.head(3)"
   ]
  },
  {
   "cell_type": "code",
   "execution_count": null,
   "metadata": {},
   "outputs": [],
   "source": []
  }
 ],
 "metadata": {
  "interpreter": {
   "hash": "27ebf4f1d3b560d91493d8a990653c9bacfbf5f00ba33ac78a40d5a1f0dbb5a0"
  },
  "kernelspec": {
   "display_name": "Python 3.7.10 64-bit ('py37': conda)",
   "language": "python",
   "name": "python3"
  },
  "language_info": {
   "codemirror_mode": {
    "name": "ipython",
    "version": 3
   },
   "file_extension": ".py",
   "mimetype": "text/x-python",
   "name": "python",
   "nbconvert_exporter": "python",
   "pygments_lexer": "ipython3",
   "version": "3.7.10"
  },
  "orig_nbformat": 4
 },
 "nbformat": 4,
 "nbformat_minor": 2
}
