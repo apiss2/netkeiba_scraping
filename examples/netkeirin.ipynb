{
 "cells": [
  {
   "cell_type": "markdown",
   "metadata": {},
   "source": [
    "# サンプル\n",
    "まずはライブラリから必要なものをインポートします"
   ]
  },
  {
   "cell_type": "code",
   "execution_count": 2,
   "metadata": {},
   "outputs": [],
   "source": [
    "from scraping.netkeirin import OddsScraper, DatabaseScraper"
   ]
  },
  {
   "cell_type": "markdown",
   "metadata": {},
   "source": [
    "# BeautifulSoupを利用したクラスの利用方法\n",
    "このライブラリには以下の2種類のクラスが存在します。\n",
    "1. requests + BeautifulSoup4を利用した、静的サイトのスクレイピングを行うクラス\n",
    "1. seleniumを利用した、動的サイトのスクレイピングを行うクラス\n",
    "\n",
    "netkeirinのスクレイピングにおいては、`DatabaseScraper`クラスが静的サイト用、`OddsScraper`クラスが動的サイト用です。"
   ]
  },
  {
   "cell_type": "markdown",
   "metadata": {},
   "source": [
    "## 動的サイトのスクレイピング\n",
    "動的サイトの場合にはchrome driverが必要なので、driverの場所を引数から渡す必要があります。\n",
    "\n",
    "また、静的サイトと同様に、レースIDを用いてアクセスするURLを変える場合には、`visit_page`メソッドを事前に呼び出す必要があります。"
   ]
  },
  {
   "cell_type": "code",
   "execution_count": 3,
   "metadata": {},
   "outputs": [],
   "source": [
    "odds_scraper = OddsScraper('../chromedriver_win32/chromedriver.exe')\n",
    "odds_scraper.visit_page('201206132111')"
   ]
  },
  {
   "cell_type": "markdown",
   "metadata": {},
   "source": [
    "オッズデータが存在しない場合があるため、オッズデータの有無を確認します。古いレースだと無い場合が多いです。"
   ]
  },
  {
   "cell_type": "code",
   "execution_count": 4,
   "metadata": {},
   "outputs": [
    {
     "data": {
      "text/plain": [
       "False"
      ]
     },
     "execution_count": 4,
     "metadata": {},
     "output_type": "execute_result"
    }
   ],
   "source": [
    "odds_scraper.odds_is_exist()"
   ]
  },
  {
   "cell_type": "code",
   "execution_count": 5,
   "metadata": {},
   "outputs": [
    {
     "data": {
      "text/html": [
       "<div>\n",
       "<style scoped>\n",
       "    .dataframe tbody tr th:only-of-type {\n",
       "        vertical-align: middle;\n",
       "    }\n",
       "\n",
       "    .dataframe tbody tr th {\n",
       "        vertical-align: top;\n",
       "    }\n",
       "\n",
       "    .dataframe thead th {\n",
       "        text-align: right;\n",
       "    }\n",
       "</style>\n",
       "<table border=\"1\" class=\"dataframe\">\n",
       "  <thead>\n",
       "    <tr style=\"text-align: right;\">\n",
       "      <th></th>\n",
       "      <th>First</th>\n",
       "      <th>Second</th>\n",
       "      <th>Odds</th>\n",
       "    </tr>\n",
       "  </thead>\n",
       "  <tbody>\n",
       "    <tr>\n",
       "      <th>0</th>\n",
       "      <td>1</td>\n",
       "      <td>2</td>\n",
       "      <td>218.7</td>\n",
       "    </tr>\n",
       "    <tr>\n",
       "      <th>1</th>\n",
       "      <td>1</td>\n",
       "      <td>3</td>\n",
       "      <td>83.5</td>\n",
       "    </tr>\n",
       "    <tr>\n",
       "      <th>2</th>\n",
       "      <td>1</td>\n",
       "      <td>4</td>\n",
       "      <td>440.2</td>\n",
       "    </tr>\n",
       "  </tbody>\n",
       "</table>\n",
       "</div>"
      ],
      "text/plain": [
       "   First  Second   Odds\n",
       "0      1       2  218.7\n",
       "1      1       3   83.5\n",
       "2      1       4  440.2"
      ]
     },
     "execution_count": 5,
     "metadata": {},
     "output_type": "execute_result"
    }
   ],
   "source": [
    "odds_scraper.visit_page('202112011311')\n",
    "odds_scraper.get_2shatan_odds_table().head(3)"
   ]
  },
  {
   "cell_type": "markdown",
   "metadata": {},
   "source": [
    "## 静的サイトのスクレイピング\n",
    "静的サイトの場合には、クラスの初期化にあたっては何もする必要はありません。\n",
    "ただし、DatabaseScraperのように、レースIDを用いてアクセスするURLを変える場合には、まず初めてに`get_soup`メソッドで情報を取得する必要があります。"
   ]
  },
  {
   "cell_type": "code",
   "execution_count": 6,
   "metadata": {},
   "outputs": [],
   "source": [
    "database_scraper = DatabaseScraper()\n",
    "database_scraper.get_soup('201206132111')"
   ]
  },
  {
   "cell_type": "code",
   "execution_count": 7,
   "metadata": {},
   "outputs": [
    {
     "data": {
      "text/html": [
       "<div>\n",
       "<style scoped>\n",
       "    .dataframe tbody tr th:only-of-type {\n",
       "        vertical-align: middle;\n",
       "    }\n",
       "\n",
       "    .dataframe tbody tr th {\n",
       "        vertical-align: top;\n",
       "    }\n",
       "\n",
       "    .dataframe thead th {\n",
       "        text-align: right;\n",
       "    }\n",
       "</style>\n",
       "<table border=\"1\" class=\"dataframe\">\n",
       "  <thead>\n",
       "    <tr style=\"text-align: right;\">\n",
       "      <th></th>\n",
       "      <th>着</th>\n",
       "      <th>枠番</th>\n",
       "      <th>車番</th>\n",
       "      <th>選手名</th>\n",
       "      <th>着差</th>\n",
       "      <th>上り</th>\n",
       "      <th>決</th>\n",
       "      <th>SB</th>\n",
       "    </tr>\n",
       "  </thead>\n",
       "  <tbody>\n",
       "    <tr>\n",
       "      <th>0</th>\n",
       "      <td>1</td>\n",
       "      <td>1</td>\n",
       "      <td>1</td>\n",
       "      <td>宇賀神浩幸</td>\n",
       "      <td></td>\n",
       "      <td>12.2</td>\n",
       "      <td>差</td>\n",
       "      <td></td>\n",
       "    </tr>\n",
       "    <tr>\n",
       "      <th>1</th>\n",
       "      <td>2</td>\n",
       "      <td>6</td>\n",
       "      <td>8</td>\n",
       "      <td>奥泉修司</td>\n",
       "      <td>1車輪</td>\n",
       "      <td>11.5</td>\n",
       "      <td>差</td>\n",
       "      <td></td>\n",
       "    </tr>\n",
       "    <tr>\n",
       "      <th>2</th>\n",
       "      <td>3</td>\n",
       "      <td>6</td>\n",
       "      <td>9</td>\n",
       "      <td>塚本勝士</td>\n",
       "      <td>1/8車輪</td>\n",
       "      <td>12.3</td>\n",
       "      <td></td>\n",
       "      <td>B</td>\n",
       "    </tr>\n",
       "  </tbody>\n",
       "</table>\n",
       "</div>"
      ],
      "text/plain": [
       "   着 枠番 車番    選手名     着差    上り  決 SB\n",
       "0  1  1  1  宇賀神浩幸         12.2  差   \n",
       "1  2  6  8   奥泉修司    1車輪  11.5  差   \n",
       "2  3  6  9   塚本勝士  1/8車輪  12.3     B"
      ]
     },
     "execution_count": 7,
     "metadata": {},
     "output_type": "execute_result"
    }
   ],
   "source": [
    "database_scraper.get_main_table().head(3)"
   ]
  },
  {
   "cell_type": "code",
   "execution_count": 8,
   "metadata": {},
   "outputs": [
    {
     "data": {
      "text/html": [
       "<div>\n",
       "<style scoped>\n",
       "    .dataframe tbody tr th:only-of-type {\n",
       "        vertical-align: middle;\n",
       "    }\n",
       "\n",
       "    .dataframe tbody tr th {\n",
       "        vertical-align: top;\n",
       "    }\n",
       "\n",
       "    .dataframe thead th {\n",
       "        text-align: right;\n",
       "    }\n",
       "</style>\n",
       "<table border=\"1\" class=\"dataframe\">\n",
       "  <thead>\n",
       "    <tr style=\"text-align: right;\">\n",
       "      <th></th>\n",
       "      <th>券種</th>\n",
       "      <th>組合せ</th>\n",
       "      <th>払戻金額</th>\n",
       "      <th>人気</th>\n",
       "    </tr>\n",
       "  </thead>\n",
       "  <tbody>\n",
       "    <tr>\n",
       "      <th>0</th>\n",
       "      <td>枠複</td>\n",
       "      <td>1-6</td>\n",
       "      <td>1200</td>\n",
       "      <td>5</td>\n",
       "    </tr>\n",
       "    <tr>\n",
       "      <th>1</th>\n",
       "      <td>枠単</td>\n",
       "      <td>1&gt;6</td>\n",
       "      <td>3560</td>\n",
       "      <td>12</td>\n",
       "    </tr>\n",
       "    <tr>\n",
       "      <th>2</th>\n",
       "      <td>２車複</td>\n",
       "      <td>1-8</td>\n",
       "      <td>42150</td>\n",
       "      <td>34</td>\n",
       "    </tr>\n",
       "  </tbody>\n",
       "</table>\n",
       "</div>"
      ],
      "text/plain": [
       "    券種  組合せ   払戻金額  人気\n",
       "0   枠複  1-6   1200   5\n",
       "1   枠単  1>6   3560  12\n",
       "2  ２車複  1-8  42150  34"
      ]
     },
     "execution_count": 8,
     "metadata": {},
     "output_type": "execute_result"
    }
   ],
   "source": [
    "database_scraper.get_prize_table().head(3)"
   ]
  },
  {
   "cell_type": "code",
   "execution_count": null,
   "metadata": {},
   "outputs": [],
   "source": []
  }
 ],
 "metadata": {
  "interpreter": {
   "hash": "27ebf4f1d3b560d91493d8a990653c9bacfbf5f00ba33ac78a40d5a1f0dbb5a0"
  },
  "kernelspec": {
   "display_name": "Python 3.7.10 64-bit ('py37': conda)",
   "language": "python",
   "name": "python3"
  },
  "language_info": {
   "codemirror_mode": {
    "name": "ipython",
    "version": 3
   },
   "file_extension": ".py",
   "mimetype": "text/x-python",
   "name": "python",
   "nbconvert_exporter": "python",
   "pygments_lexer": "ipython3",
   "version": "3.7.10"
  },
  "orig_nbformat": 4
 },
 "nbformat": 4,
 "nbformat_minor": 2
}
